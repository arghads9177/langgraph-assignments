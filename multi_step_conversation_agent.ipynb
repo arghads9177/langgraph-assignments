{
 "cells": [
  {
   "cell_type": "code",
   "execution_count": 48,
   "id": "7b945906-8891-4ff4-a411-ccde3ff57c3e",
   "metadata": {},
   "outputs": [],
   "source": [
    "# Import libraries\n",
    "import os\n",
    "from dotenv import load_dotenv\n",
    "from langgraph.graph import StateGraph, START, END\n",
    "from langchain_openai import ChatOpenAI\n",
    "from typing import TypedDict, List\n",
    "from IPython.display import display, Image\n",
    "from langgraph.checkpoint.memory import MemorySaver"
   ]
  },
  {
   "cell_type": "code",
   "execution_count": 31,
   "id": "4effdffc-067a-4c5a-8dfa-b9f72c00a834",
   "metadata": {},
   "outputs": [],
   "source": [
    "# Load environment\n",
    "load_dotenv()\n",
    "os.environ[\"OPENAI_API_KEY\"] = os.getenv(\"OPENAI_API_KEY\")"
   ]
  },
  {
   "cell_type": "code",
   "execution_count": 32,
   "id": "9e410829-c926-4f61-9e93-9d15ee2df74f",
   "metadata": {},
   "outputs": [],
   "source": [
    "# Difine LLM model\n",
    "model = ChatOpenAI(model=\"gpt-4o\")"
   ]
  },
  {
   "cell_type": "code",
   "execution_count": 33,
   "id": "12b1c0c7-9ce5-4680-831b-633a53ac0247",
   "metadata": {},
   "outputs": [],
   "source": [
    "# Define Graph state\n",
    "class State(TypedDict):\n",
    "    question: str\n",
    "    answer: str\n",
    "    chat_history: List[str]"
   ]
  },
  {
   "cell_type": "code",
   "execution_count": 54,
   "id": "18b24ad7-88f3-4d03-95a5-cb413bf45da5",
   "metadata": {},
   "outputs": [],
   "source": [
    "# Define conversation\n",
    "def chat_with_aegnt(state:State)-> State:\n",
    "    \"\"\"Processes user question while maintaining chat history.\"\"\"\n",
    "    chat_history = state.get(\"chat_history\", [])\n",
    "    question = state[\"question\"]\n",
    "    try:\n",
    "        if not question:\n",
    "            raise Exception(\"Ask a question\")\n",
    "        if len(chat_history) > 0:\n",
    "            context = \"\\n\".join(chat_history)\n",
    "            context += \"Consider the previous conversation as context and answer the following question as per your knowledge\\n\"\n",
    "            context += f\"Question:{question}\"\n",
    "        else:\n",
    "            context = \"answer the following question as per your knowledge\\n\"\n",
    "            context += f\"Question:{question}\"\n",
    "        response = model.invoke(context)\n",
    "        chat_history.append(f\"User:{question}\")\n",
    "        chat_history.append(f\"Agent:{response.content}\")\n",
    "        return {\"answer\": response.content, \"chat_history\": chat_history}\n",
    "    except Exception as e:\n",
    "        print(f\"Exception:{e}\")"
   ]
  },
  {
   "cell_type": "code",
   "execution_count": 55,
   "id": "8a701246-fb18-4caa-97e8-3c2397878f77",
   "metadata": {},
   "outputs": [
    {
     "data": {
      "image/png": "[encoded data removed]",
      "text/plain": [
       "<IPython.core.display.Image object>"
      ]
     },
     "metadata": {},
     "output_type": "display_data"
    }
   ],
   "source": [
    "# Define Graph\n",
    "workflow = StateGraph(State)\n",
    "# Add node\n",
    "workflow.add_node(\"conversation\", chat_with_aegnt)\n",
    "# Add edge\n",
    "workflow.add_edge(START, \"conversation\")\n",
    "workflow.add_edge(\"conversation\", END)\n",
    "# Compile graph\n",
    "memory = MemorySaver()\n",
    "graph = workflow.compile(checkpointer=memory)\n",
    "# Display graph\n",
    "display(Image(graph.get_graph().draw_mermaid_png()))"
   ]
  },
  {
   "cell_type": "code",
   "execution_count": 56,
   "id": "592d63d5-e122-4131-a194-c987c65ce40f",
   "metadata": {},
   "outputs": [],
   "source": [
    "config = { \"configurable\": {\"thread_id\": \"1\"}}\n",
    "# Graph Invokation\n",
    "def invoke_graph(question):\n",
    "    output = graph.invoke({\"question\": question}, config)\n",
    "    print(f\"Question:{output['question']}\\n\")\n",
    "    print(f\"Answer:{output['answer']}\\n\\n\")\n",
    "    print(f\"History:\\n{output['chat_history']}\")"
   ]
  },
  {
   "cell_type": "code",
   "execution_count": 57,
   "id": "f7108160-3997-4e11-b763-6c0e58fc721b",
   "metadata": {},
   "outputs": [
    {
     "name": "stdout",
     "output_type": "stream",
     "text": [
      "Question:What is langchain?\n",
      "\n",
      "Answer:LangChain is a framework designed to facilitate the development of applications powered by large language models (LLMs). It provides a suite of tools and abstractions that simplify the process of integrating LLMs into various applications. LangChain is often used to build complex applications that require tasks such as natural language processing, information retrieval, and conversational agents. It supports the seamless connection of LLMs with external data sources, APIs, and other services, enabling developers to create more dynamic and interactive user experiences. The framework also emphasizes composability and modularity, allowing developers to mix and match different components to build customized solutions efficiently.\n",
      "\n",
      "\n",
      "History:\n",
      "['User:What is langchain?', 'Agent:LangChain is a framework designed to facilitate the development of applications powered by large language models (LLMs). It provides a suite of tools and abstractions that simplify the process of integrating LLMs into various applications. LangChain is often used to build complex applications that require tasks such as natural language processing, information retrieval, and conversational agents. It supports the seamless connection of LLMs with external data sources, APIs, and other services, enabling developers to create more dynamic and interactive user experiences. The framework also emphasizes composability and modularity, allowing developers to mix and match different components to build customized solutions efficiently.']\n"
     ]
    }
   ],
   "source": [
    "invoke_graph(\"What is langchain?\")"
   ]
  },
  {
   "cell_type": "code",
   "execution_count": 58,
   "id": "b2fd8155-3cc3-4452-95d2-43e7bd7b546a",
   "metadata": {},
   "outputs": [
    {
     "name": "stdout",
     "output_type": "stream",
     "text": [
      "Question:How to install it?\n",
      "\n",
      "Answer:To install LangChain, you can use Python's package manager, pip. Open your command line or terminal and run the following command:\n",
      "\n",
      "```bash\n",
      "pip install langchain\n",
      "```\n",
      "\n",
      "This will download and install the LangChain package and its dependencies. Make sure you have Python and pip installed on your system before running the command. Once installed, you can start using LangChain in your Python projects to develop applications powered by large language models.\n",
      "\n",
      "\n",
      "History:\n",
      "['User:What is langchain?', 'Agent:LangChain is a framework designed to facilitate the development of applications powered by large language models (LLMs). It provides a suite of tools and abstractions that simplify the process of integrating LLMs into various applications. LangChain is often used to build complex applications that require tasks such as natural language processing, information retrieval, and conversational agents. It supports the seamless connection of LLMs with external data sources, APIs, and other services, enabling developers to create more dynamic and interactive user experiences. The framework also emphasizes composability and modularity, allowing developers to mix and match different components to build customized solutions efficiently.', 'User:How to install it?', \"Agent:To install LangChain, you can use Python's package manager, pip. Open your command line or terminal and run the following command:\\n\\n```bash\\npip install langchain\\n```\\n\\nThis will download and install the LangChain package and its dependencies. Make sure you have Python and pip installed on your system before running the command. Once installed, you can start using LangChain in your Python projects to develop applications powered by large language models.\"]\n"
     ]
    }
   ],
   "source": [
    "invoke_graph(\"How to install it?\")"
   ]
  },
  {
   "cell_type": "code",
   "execution_count": 62,
   "id": "c5a4f973-c147-4d60-85e6-eafce833bd2c",
   "metadata": {},
   "outputs": [
    {
     "name": "stdout",
     "output_type": "stream",
     "text": [
      "Exception:Ask a question\n",
      "Question:\n",
      "\n",
      "Answer:To install LangChain, you can use Python's package manager, pip. Open your command line or terminal and run the following command:\n",
      "\n",
      "```bash\n",
      "pip install langchain\n",
      "```\n",
      "\n",
      "This will download and install the LangChain package and its dependencies. Make sure you have Python and pip installed on your system before running the command. Once installed, you can start using LangChain in your Python projects to develop applications powered by large language models.\n",
      "\n",
      "\n",
      "History:\n",
      "['User:What is langchain?', 'Agent:LangChain is a framework designed to facilitate the development of applications powered by large language models (LLMs). It provides a suite of tools and abstractions that simplify the process of integrating LLMs into various applications. LangChain is often used to build complex applications that require tasks such as natural language processing, information retrieval, and conversational agents. It supports the seamless connection of LLMs with external data sources, APIs, and other services, enabling developers to create more dynamic and interactive user experiences. The framework also emphasizes composability and modularity, allowing developers to mix and match different components to build customized solutions efficiently.', 'User:How to install it?', \"Agent:To install LangChain, you can use Python's package manager, pip. Open your command line or terminal and run the following command:\\n\\n```bash\\npip install langchain\\n```\\n\\nThis will download and install the LangChain package and its dependencies. Make sure you have Python and pip installed on your system before running the command. Once installed, you can start using LangChain in your Python projects to develop applications powered by large language models.\"]\n"
     ]
    }
   ],
   "source": [
    "invoke_graph(\"\")"
   ]
  },
  {
   "cell_type": "code",
   "execution_count": null,
   "id": "6aef5729-afdb-4352-927f-4774ddac3441",
   "metadata": {},
   "outputs": [],
   "source": []
  }
 ],
 "metadata": {
  "kernelspec": {
   "display_name": "Python 3 (ipykernel)",
   "language": "python",
   "name": "python3"
  },
  "language_info": {
   "codemirror_mode": {
    "name": "ipython",
    "version": 3
   },
   "file_extension": ".py",
   "mimetype": "text/x-python",
   "name": "python",
   "nbconvert_exporter": "python",
   "pygments_lexer": "ipython3",
   "version": "3.12.0"
  }
 },
 "nbformat": 4,
 "nbformat_minor": 5
}
