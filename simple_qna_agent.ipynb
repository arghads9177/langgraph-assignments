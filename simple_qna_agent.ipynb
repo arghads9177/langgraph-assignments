{
 "cells": [
  {
   "cell_type": "code",
   "execution_count": 26,
   "id": "61f4952b-a267-4906-afcc-edad3fd29a0f",
   "metadata": {},
   "outputs": [],
   "source": [
    "# Import libraries\n",
    "import os\n",
    "from dotenv import load_dotenv\n",
    "from IPython.display import display, Image\n",
    "from langchain_openai import ChatOpenAI\n",
    "from langgraph.graph import StateGraph, START, END\n",
    "from typing import TypedDict"
   ]
  },
  {
   "cell_type": "code",
   "execution_count": 7,
   "id": "4cfc1fc9-184d-4a3b-aecf-e1f8f25b834b",
   "metadata": {},
   "outputs": [],
   "source": [
    "# Load environment\n",
    "load_dotenv()\n",
    "os.environ[\"OPENAI_API_KEY\"] = os.getenv(\"OPENAI_API_KEY\")"
   ]
  },
  {
   "cell_type": "code",
   "execution_count": 8,
   "id": "167eaf75-6088-4ebd-bd30-a9cce9443df4",
   "metadata": {},
   "outputs": [],
   "source": [
    "# Define LLM\n",
    "model = ChatOpenAI(model=\"gpt-4o\")"
   ]
  },
  {
   "cell_type": "code",
   "execution_count": 16,
   "id": "48d7fc0f-062a-41d2-b0f1-500d74ba7b10",
   "metadata": {},
   "outputs": [],
   "source": [
    "# Define Graph State\n",
    "class State(TypedDict):\n",
    "    question: str\n",
    "    answer: str"
   ]
  },
  {
   "cell_type": "code",
   "execution_count": 17,
   "id": "91941f33-00f1-4322-a843-942b3e57a41f",
   "metadata": {},
   "outputs": [],
   "source": [
    "# Define llm response function\n",
    "def ask_llm(state:State)-> State:\n",
    "    try:\n",
    "        question = state.get(\"question\", \"\")\n",
    "        if not question:\n",
    "            raise Exception(\"Please enter your question\")\n",
    "        response = model.invoke(question)\n",
    "        return { \"answer\": response.content }\n",
    "    except Exception as e:\n",
    "        print(f\"Exception: {e}\")"
   ]
  },
  {
   "cell_type": "code",
   "execution_count": 18,
   "id": "d1cee63f-8102-4840-81fa-33fca05b298c",
   "metadata": {},
   "outputs": [
    {
     "data": {
      "image/png": "[encoded data removed]",
      "text/plain": [
       "<IPython.core.display.Image object>"
      ]
     },
     "metadata": {},
     "output_type": "display_data"
    }
   ],
   "source": [
    "# Define graph\n",
    "workflow = StateGraph(State)\n",
    "# Add nodes\n",
    "workflow.add_node(\"conversation\", ask_llm)\n",
    "# Add edges\n",
    "workflow.add_edge(START, \"conversation\")\n",
    "workflow.add_edge(\"conversation\", END)\n",
    "\n",
    "# Compile graph\n",
    "graph = workflow.compile()\n",
    "# Display graph\n",
    "display(Image(graph.get_graph().draw_mermaid_png()))"
   ]
  },
  {
   "cell_type": "code",
   "execution_count": 22,
   "id": "cd713dd9-da81-4e0b-8d0e-96376d5417d1",
   "metadata": {},
   "outputs": [],
   "source": [
    "# Graph invokation\n",
    "def invoke_graph(question):\n",
    "    output = graph.invoke({\"question\": question})\n",
    "    print(f\"Question:{output['question']}\\n\\n\")\n",
    "    print(f\"Answer: {output['answer']}\")"
   ]
  },
  {
   "cell_type": "code",
   "execution_count": 25,
   "id": "2f77fb6c-c04d-448c-878c-26786759c582",
   "metadata": {},
   "outputs": [
    {
     "name": "stdout",
     "output_type": "stream",
     "text": [
      "Question:What is langchain?\n",
      "\n",
      "\n",
      "Answer: LangChain is a framework designed to simplify the development of applications using large language models (LLMs). It provides a set of tools and abstractions that make it easier to build complex applications that can leverage the power of LLMs for a variety of tasks. LangChain focuses on several key areas:\n",
      "\n",
      "1. **Model Integration**: It provides seamless integration with various LLM providers, making it easier to switch between different models or use multiple models within the same application.\n",
      "\n",
      "2. **Data Augmentation**: LangChain offers utilities to enhance the data that is fed into language models, such as retrieval-augmented generation, which combines the language model with external knowledge sources.\n",
      "\n",
      "3. **Memory Management**: The framework includes components that help manage conversational memory, allowing applications to maintain context over long interactions.\n",
      "\n",
      "4. **Agent Abstraction**: LangChain provides an agent abstraction that enables the creation of applications where language models can perform actions based on user inputs, such as fetching information or executing code.\n",
      "\n",
      "5. **Chain of Thought**: It supports building chains of logic or reasoning that can be used to solve complex tasks by breaking them down into simpler steps that a language model can handle.\n",
      "\n",
      "6. **Evaluation and Monitoring**: Tools for evaluating the performance of language models and monitoring their outputs to ensure reliability and accuracy.\n",
      "\n",
      "LangChain aims to provide a flexible yet powerful framework that developers can use to build a wide range of applications, from chatbots and virtual assistants to complex data processing and analysis tools.\n"
     ]
    }
   ],
   "source": [
    "invoke_graph(\"What is langchain?\")"
   ]
  },
  {
   "cell_type": "code",
   "execution_count": 27,
   "id": "574832a1-9529-40de-87b9-5c3312005fe0",
   "metadata": {},
   "outputs": [
    {
     "name": "stdout",
     "output_type": "stream",
     "text": [
      "Question:Where it is available?\n",
      "\n",
      "\n",
      "Answer: Could you please clarify what you are referring to? Are you asking about the availability of a specific product, service, or information? Let me know so I can assist you better.\n"
     ]
    }
   ],
   "source": [
    "invoke_graph(\"Where it is available?\")"
   ]
  },
  {
   "cell_type": "code",
   "execution_count": null,
   "id": "9f493df5-6cbe-4b91-bc79-7638b103cfc7",
   "metadata": {},
   "outputs": [],
   "source": []
  }
 ],
 "metadata": {
  "kernelspec": {
   "display_name": "Python 3 (ipykernel)",
   "language": "python",
   "name": "python3"
  },
  "language_info": {
   "codemirror_mode": {
    "name": "ipython",
    "version": 3
   },
   "file_extension": ".py",
   "mimetype": "text/x-python",
   "name": "python",
   "nbconvert_exporter": "python",
   "pygments_lexer": "ipython3",
   "version": "3.12.0"
  }
 },
 "nbformat": 4,
 "nbformat_minor": 5
}
