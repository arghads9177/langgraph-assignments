{
 "cells": [
  {
   "cell_type": "code",
   "execution_count": 21,
   "id": "ef583c18-4149-45aa-960c-3a5d02d21041",
   "metadata": {},
   "outputs": [],
   "source": [
    "# Import Libraries\n",
    "\n",
    "import os\n",
    "import requests\n",
    "from typing import TypedDict\n",
    "from langchain_openai import ChatOpenAI\n",
    "from langgraph.graph import StateGraph\n",
    "from dotenv import load_dotenv\n",
    "from IPython.display import display, Image"
   ]
  },
  {
   "cell_type": "code",
   "execution_count": 4,
   "id": "6dba6be9-e297-4b4c-a5a5-31e61f48fcc8",
   "metadata": {},
   "outputs": [],
   "source": [
    "# Load API Keys (Set these as environment variables)\n",
    "load_dotenv()\n",
    "GEO_API_KEY = os.getenv('GEO_API_KEY')\n",
    "WEATHER_API_KEY = os.getenv('WEATHER_API_KEY')\n",
    "os.environ[\"OPENAI_API_KEY\"] = os.getenv(\"OPENAI_API_KEY\")"
   ]
  },
  {
   "cell_type": "markdown",
   "id": "3bc660f9-067c-40ea-8da4-d9986f39ab94",
   "metadata": {},
   "source": [
    "### Define State for LangGraph"
   ]
  },
  {
   "cell_type": "code",
   "execution_count": 28,
   "id": "6118157f-9b6a-42a9-a589-7ff9157aae33",
   "metadata": {},
   "outputs": [],
   "source": [
    "class WeatherState(TypedDict):\n",
    "    query: str\n",
    "    location: str\n",
    "    latitude: float\n",
    "    longitude: float\n",
    "    weather_info: str\n",
    "    final_response: str"
   ]
  },
  {
   "cell_type": "markdown",
   "id": "76ba2777-c04e-40dd-a36b-a9e491c813e0",
   "metadata": {},
   "source": [
    "### User-Defined Tool"
   ]
  },
  {
   "cell_type": "code",
   "execution_count": 62,
   "id": "1b9991df-4877-4302-9a8a-5e234849bacc",
   "metadata": {},
   "outputs": [],
   "source": [
    "# 1: Get Latitude & Longitude\n",
    "\n",
    "def get_lat_long(state: WeatherState) -> WeatherState:\n",
    "    \"\"\"Fetch latitude and longitude using geocodes.map.co API.\"\"\"\n",
    "    location = state[\"location\"]\n",
    "    if location and location != 'no location':\n",
    "        url = f\"https://geocode.maps.co/search?q={location}&api_key={GEO_API_KEY}\"\n",
    "        \n",
    "        response = requests.get(url).json()\n",
    "        \n",
    "        if len(response) > 0:\n",
    "            lat = response[0]['lat']\n",
    "            lon = response[0]['lon']\n",
    "            return {**state, \"latitude\": lat, \"longitude\": lon}\n",
    "        else:\n",
    "            raise ValueError(\"Location not found!\")\n",
    "    else:\n",
    "        return {**state, \"latitude\": 0, \"longitude\": 0}"
   ]
  },
  {
   "cell_type": "code",
   "execution_count": 63,
   "id": "a56a240b-573e-42d7-a8d4-5267985b9cb4",
   "metadata": {},
   "outputs": [],
   "source": [
    "# 2: Get Weather Information\n",
    "\n",
    "def get_weather(state: WeatherState) -> WeatherState:\n",
    "    \"\"\"Fetch weather details using tomorrow.io API.\"\"\"\n",
    "    location = state[\"location\"]\n",
    "    if location and location != 'no location':\n",
    "        lat, lon = state[\"latitude\"], state[\"longitude\"]\n",
    "        url = f\"https://api.tomorrow.io/v4/weather/realtime?location={lat},{lon}&apikey={WEATHER_API_KEY}\"\n",
    "    \n",
    "        response = requests.get(url).json()\n",
    "    \n",
    "        if \"data\" in response and \"values\" in response[\"data\"]:\n",
    "            weather_info = response[\"data\"][\"values\"]\n",
    "            return {**state, \"weather_info\": str(weather_info)}\n",
    "        else:\n",
    "            raise ValueError(\"Weather data not available!\")\n",
    "    else:\n",
    "        return {**state, \"weather_info\": None}"
   ]
  },
  {
   "cell_type": "markdown",
   "id": "d67da062-cfa0-428e-85fb-71fddae5271a",
   "metadata": {},
   "source": [
    "### Generate result by LLM using weather info"
   ]
  },
  {
   "cell_type": "code",
   "execution_count": 69,
   "id": "e7177d95-5b2c-46b9-b0aa-991f366c2441",
   "metadata": {},
   "outputs": [],
   "source": [
    "def get_location(state: WeatherState) -> WeatherState:\n",
    "    \"\"\"Find the location from the user query\"\"\"\n",
    "    llm = ChatOpenAI(model=\"gpt-4o\")\n",
    "    prompt= f\"\"\"\n",
    "    Read the user following query and return only the name of the city/state/country:\n",
    "    Query: {state['query']}\n",
    "\n",
    "    If any location is not found in user's query return 'no location'\n",
    "    \"\"\"\n",
    "    response = llm.invoke(prompt)\n",
    "    \n",
    "    return {**state, \"location\":response.content}"
   ]
  },
  {
   "cell_type": "code",
   "execution_count": 70,
   "id": "7b978a05-fe49-43f7-88aa-f9f467370774",
   "metadata": {},
   "outputs": [],
   "source": [
    "# LLM to Generate Weather Report\n",
    "def generate_weather_response(state: WeatherState) -> WeatherState:\n",
    "    \"\"\"Generate a weather summary using GPT-4o.\"\"\"\n",
    "    location = state[\"location\"]\n",
    "    if location and location != 'no location':\n",
    "        llm = ChatOpenAI(model=\"gpt-4o\")\n",
    "        prompt = f\"Summarize the following weather information for {state['location']}:\\n\\n{state['weather_info']}\"\n",
    "        \n",
    "        response = llm.predict(prompt)\n",
    "        \n",
    "        return {**state, \"final_response\": response}\n",
    "    else:\n",
    "        return {**state, \"final_response\": \"Your location is incorrect.\"}\n"
   ]
  },
  {
   "cell_type": "markdown",
   "id": "483938a2-c97c-4cb0-8266-fc74ab30e411",
   "metadata": {},
   "source": [
    "### Build LangGraph Workflow"
   ]
  },
  {
   "cell_type": "code",
   "execution_count": 66,
   "id": "61323b82-eb6b-4a91-97d7-20992dbe9696",
   "metadata": {},
   "outputs": [
    {
     "data": {
      "image/png": "[encoded data removed]",
      "text/plain": [
       "<IPython.core.display.Image object>"
      ]
     },
     "metadata": {},
     "output_type": "display_data"
    }
   ],
   "source": [
    "graph = StateGraph(WeatherState)\n",
    "\n",
    "# Add Nodes\n",
    "graph.add_node(\"get_location\", get_location)\n",
    "graph.add_node(\"get_lat_long\", get_lat_long)\n",
    "graph.add_node(\"get_weather\", get_weather)\n",
    "graph.add_node(\"generate_response\", generate_weather_response)\n",
    "\n",
    "# Define Workflow Order\n",
    "graph.set_entry_point(\"get_location\")\n",
    "graph.add_edge(\"get_location\", \"get_lat_long\")\n",
    "graph.add_edge(\"get_lat_long\", \"get_weather\")\n",
    "graph.add_edge(\"get_weather\", \"generate_response\")\n",
    "graph.set_finish_point(\"generate_response\")\n",
    "\n",
    "# Compile Graph\n",
    "weather_agent = graph.compile()\n",
    "\n",
    "# Display workflow\n",
    "display(Image(weather_agent.get_graph().draw_mermaid_png()))"
   ]
  },
  {
   "cell_type": "code",
   "execution_count": 68,
   "id": "8358ebf2-d968-427a-a038-663777622517",
   "metadata": {},
   "outputs": [
    {
     "name": "stdout",
     "output_type": "stream",
     "text": [
      "content='Durgapur' additional_kwargs={'refusal': None} response_metadata={'token_usage': {'completion_tokens': 4, 'prompt_tokens': 54, 'total_tokens': 58, 'completion_tokens_details': {'accepted_prediction_tokens': 0, 'audio_tokens': 0, 'reasoning_tokens': 0, 'rejected_prediction_tokens': 0}, 'prompt_tokens_details': {'audio_tokens': 0, 'cached_tokens': 0}}, 'model_name': 'gpt-4o-2024-08-06', 'system_fingerprint': 'fp_f9f4fb6dbf', 'finish_reason': 'stop', 'logprobs': None} id='run-78403bf4-1fea-4bda-a961-b82b99ee23ad-0' usage_metadata={'input_tokens': 54, 'output_tokens': 4, 'total_tokens': 58, 'input_token_details': {'audio': 0, 'cache_read': 0}, 'output_token_details': {'audio': 0, 'reasoning': 0}}\n",
      "Durgapur\n",
      "\n",
      "🌦️ Weather Report:\n",
      "The weather in Durgapur is currently clear with no cloud cover. The temperature is 17.6°C, and it feels the same at 17.6°C. The humidity level is relatively high at 81%, and the dew point is 11.1°C. There is no precipitation expected, as indicated by a 0% probability of precipitation, and no intensity of rain, sleet, or snow. Wind conditions are mild, with a wind speed of 2.5 km/h coming from the northwest (327°) and gusts up to 3.4 km/h. The atmospheric pressure is 1019 hPa at sea level and 1010 hPa at the surface level. Visibility is good at 16 km, and there are no UV health concerns with a UV index of 0. However, there is a high probability of hail at 69.4%, with a potential hail size of 3.03 cm. The weather code indicates clear weather.\n"
     ]
    }
   ],
   "source": [
    "result = weather_agent.invoke({\"query\": \"Want to know Durgapur's weather\"})\n",
    "    \n",
    "# Print Weather Report\n",
    "print(\"\\n🌦️ Weather Report:\")\n",
    "print(result[\"final_response\"])"
   ]
  },
  {
   "cell_type": "code",
   "execution_count": null,
   "id": "63476fbc-094c-4181-8acc-b4ba952d4a63",
   "metadata": {},
   "outputs": [],
   "source": []
  }
 ],
 "metadata": {
  "kernelspec": {
   "display_name": "Python 3 (ipykernel)",
   "language": "python",
   "name": "python3"
  },
  "language_info": {
   "codemirror_mode": {
    "name": "ipython",
    "version": 3
   },
   "file_extension": ".py",
   "mimetype": "text/x-python",
   "name": "python",
   "nbconvert_exporter": "python",
   "pygments_lexer": "ipython3",
   "version": "3.12.0"
  }
 },
 "nbformat": 4,
 "nbformat_minor": 5
}
