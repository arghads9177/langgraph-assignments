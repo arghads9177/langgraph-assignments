{
 "cells": [
  {
   "cell_type": "code",
   "execution_count": 1,
   "id": "8ff5eb13-94f0-488a-9c38-90ddd19d7554",
   "metadata": {},
   "outputs": [],
   "source": [
    "# Import libraries\n",
    "import os\n",
    "from dotenv import load_dotenv\n",
    "from IPython.display import display,Image\n",
    "from typing import TypedDict, Literal\n",
    "from langchain_openai import ChatOpenAI\n",
    "from langgraph.graph import StateGraph, START, END\n",
    "import json"
   ]
  },
  {
   "cell_type": "code",
   "execution_count": 2,
   "id": "7756d6be-612a-4d86-8ded-8aa4edc15e6f",
   "metadata": {},
   "outputs": [],
   "source": [
    "# Load environment\n",
    "load_dotenv()\n",
    "os.environ[\"OPENAI_API_KEY\"] = os.getenv(\"OPENAI_API_KEY\")"
   ]
  },
  {
   "cell_type": "code",
   "execution_count": 3,
   "id": "d1034907-9f63-4de0-9eae-a786751e351f",
   "metadata": {},
   "outputs": [],
   "source": [
    "# Define LLM\n",
    "model = ChatOpenAI(model=\"gpt-4o\")"
   ]
  },
  {
   "cell_type": "code",
   "execution_count": 4,
   "id": "df2d5cb9-e62d-4bd6-b51a-3ea6d6547955",
   "metadata": {},
   "outputs": [],
   "source": [
    "# Define Graph State\n",
    "class AgentState(TypedDict):\n",
    "    system_message: str\n",
    "    question: str\n",
    "    answer: str\n",
    "    context: str"
   ]
  },
  {
   "cell_type": "code",
   "execution_count": 5,
   "id": "33df09c2-19a4-41c7-97f9-0b4a1a8e73ad",
   "metadata": {},
   "outputs": [],
   "source": [
    "def analyze_question(state:AgentState)-> Literal[\"direct answer\", \"fetch additional info\"]:\n",
    "    try:\n",
    "        question = state[\"question\"]\n",
    "        if not question:\n",
    "            raise Exception(\"Ask a question\")\n",
    "        if \"ebuilder\" in question.lower() or \"ecollect\" in question.lower():\n",
    "            return \"fetch additional info\"\n",
    "        else:\n",
    "            return \"direct answer\"\n",
    "    except Exception as e:\n",
    "        state[\"answer\"] = e"
   ]
  },
  {
   "cell_type": "code",
   "execution_count": 6,
   "id": "1d40c149-16ff-458f-872d-f4332d55d817",
   "metadata": {},
   "outputs": [],
   "source": [
    "def greeting_node(state:AgentState) -> AgentState:\n",
    "    return { \"system_message\": \"I am a helpful assistant. Ask me anything.\"}"
   ]
  },
  {
   "cell_type": "code",
   "execution_count": 7,
   "id": "0f65054b-8f7a-4c81-865d-6517d022e707",
   "metadata": {},
   "outputs": [],
   "source": [
    "def fetch_additional_info(state:AgentState) -> AgentState:\n",
    "    try:\n",
    "        with open(\"astha_faq.json\", \"r\", encoding=\"utf-8\") as file:\n",
    "            faq_data= json.load(file)\n",
    "        if faq_data:\n",
    "            context = f\"Answer the question only from the following JSON as context\\n\\n{faq_data}\"\n",
    "        else:\n",
    "            context = \"\"\n",
    "        return {\"context\": context}\n",
    "    except Exception as e:\n",
    "        print(f\"Error loading context file: {e}\")\n",
    "        return {\"context\": \"\"}\n",
    "    "
   ]
  },
  {
   "cell_type": "code",
   "execution_count": 8,
   "id": "d5596cac-433e-4262-8dc7-9b93592a22b2",
   "metadata": {},
   "outputs": [],
   "source": [
    "def direct_answer(state:AgentState)-> AgentState:\n",
    "    question = state[\"question\"]\n",
    "    context = state.get(\"context\", \"\")\n",
    "    if context:\n",
    "        message = context + f\"\\n\\nQuestion:{question}\"\n",
    "    else:\n",
    "        message = question\n",
    "    response = model.invoke(message)\n",
    "    return {\"answer\": response.content}"
   ]
  },
  {
   "cell_type": "code",
   "execution_count": 9,
   "id": "fc3bc3e8-582a-4834-9707-7d384cfd7582",
   "metadata": {},
   "outputs": [
    {
     "data": {
      "image/png": "[encoded data removed]",
      "text/plain": [
       "<IPython.core.display.Image object>"
      ]
     },
     "metadata": {},
     "output_type": "display_data"
    }
   ],
   "source": [
    "# Define Graph\n",
    "workflow = StateGraph(AgentState)\n",
    "# Add nodes\n",
    "workflow.add_node(\"greeting\", greeting_node)\n",
    "workflow.add_node(\"direct answer\", direct_answer)\n",
    "workflow.add_node(\"fetch additional info\", fetch_additional_info)\n",
    "# Add edges\n",
    "workflow.add_edge(START,\"greeting\")\n",
    "workflow.add_conditional_edges(\"greeting\", analyze_question)\n",
    "workflow.add_edge(\"fetch additional info\", \"direct answer\")\n",
    "workflow.add_edge(\"direct answer\", END)\n",
    "# Compile graph\n",
    "graph = workflow.compile()\n",
    "# Display graph\n",
    "display(Image(graph.get_graph().draw_mermaid_png()))"
   ]
  },
  {
   "cell_type": "code",
   "execution_count": 10,
   "id": "8ee37c08-f049-49a7-8cdc-1c35d2af30e1",
   "metadata": {},
   "outputs": [],
   "source": [
    "# Graph invokation\n",
    "def invoke_graph(question:str):\n",
    "    output = graph.invoke({\"question\": question})\n",
    "    print(f\"Question:{output['question']}\\n\")\n",
    "    print(f\"Answer:{output['answer']}\")"
   ]
  },
  {
   "cell_type": "code",
   "execution_count": 11,
   "id": "3e85f636-e6c1-4e53-a207-b4fec59ecd1e",
   "metadata": {},
   "outputs": [
    {
     "name": "stdout",
     "output_type": "stream",
     "text": [
      "Question:What is Agent in AI?\n",
      "\n",
      "Answer:In the context of artificial intelligence (AI), an \"agent\" refers to an autonomous entity that perceives its environment through sensors and acts upon that environment through actuators or effectors. The purpose of an AI agent is to achieve specific goals or perform tasks by making decisions based on its perceptions and a given set of rules or learning processes.\n",
      "\n",
      "There are several types of agents in AI, including:\n",
      "\n",
      "1. **Simple Reflex Agents**: These agents select actions based on the current percept, ignoring the rest of the percept history. They function by condition-action rules, like \"if condition then action.\"\n",
      "\n",
      "2. **Model-Based Reflex Agents**: These agents maintain an internal model of the world, which helps them handle partially observable environments by keeping track of the part of the world they cannot see.\n",
      "\n",
      "3. **Goal-Based Agents**: These agents act to achieve specific goals and can evaluate different courses of action based on how well they achieve these goals.\n",
      "\n",
      "4. **Utility-Based Agents**: These agents not only aim to achieve goals but also consider the best way to achieve them, using a utility function to rank different states of the world according to how desirable they are.\n",
      "\n",
      "5. **Learning Agents**: These agents have the capability to improve their performance over time by learning from their experiences.\n",
      "\n",
      "AI agents are used in various applications, such as robotics, autonomous vehicles, virtual assistants, and more, where they help automate tasks and make intelligent decisions based on their programming and learning.\n"
     ]
    }
   ],
   "source": [
    "invoke_graph(\"What is Agent in AI?\")"
   ]
  },
  {
   "cell_type": "code",
   "execution_count": 12,
   "id": "18003a7f-199b-43b2-ba69-6612d8d7f3f5",
   "metadata": {},
   "outputs": [
    {
     "name": "stdout",
     "output_type": "stream",
     "text": [
      "Question:How to do property booking in ebuilder?\n",
      "\n",
      "Answer:Go to Marketing Management, select Add Booking, and enter customer and property details. Save the entry to confirm the booking.\n"
     ]
    }
   ],
   "source": [
    "invoke_graph(\"How to do property booking in ebuilder?\")"
   ]
  },
  {
   "cell_type": "code",
   "execution_count": 13,
   "id": "0db10a83-74c6-4492-80e8-7b2049e6832f",
   "metadata": {},
   "outputs": [
    {
     "name": "stdout",
     "output_type": "stream",
     "text": [
      "Question:List the financial report in eCollect?\n",
      "\n",
      "Answer:eCollect provides detailed financial reports, including account ledgers, bank books, cash books, and statements for comprehensive financial analysis.\n"
     ]
    }
   ],
   "source": [
    "invoke_graph(\"List the financial report in eCollect?\")"
   ]
  },
  {
   "cell_type": "code",
   "execution_count": null,
   "id": "8adfc561-5020-49a8-b106-0f11f2d012c7",
   "metadata": {},
   "outputs": [],
   "source": []
  }
 ],
 "metadata": {
  "kernelspec": {
   "display_name": "Python 3 (ipykernel)",
   "language": "python",
   "name": "python3"
  },
  "language_info": {
   "codemirror_mode": {
    "name": "ipython",
    "version": 3
   },
   "file_extension": ".py",
   "mimetype": "text/x-python",
   "name": "python",
   "nbconvert_exporter": "python",
   "pygments_lexer": "ipython3",
   "version": "3.12.0"
  }
 },
 "nbformat": 4,
 "nbformat_minor": 5
}
